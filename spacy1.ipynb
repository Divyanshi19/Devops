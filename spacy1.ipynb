{
  "nbformat": 4,
  "nbformat_minor": 0,
  "metadata": {
    "colab": {
      "name": "spacy1.ipynb",
      "provenance": [],
      "authorship_tag": "ABX9TyOczlPRTK5vhC5Cx1QbivmL",
      "include_colab_link": true
    },
    "kernelspec": {
      "name": "python3",
      "display_name": "Python 3"
    }
  },
  "cells": [
    {
      "cell_type": "markdown",
      "metadata": {
        "id": "view-in-github",
        "colab_type": "text"
      },
      "source": [
        "<a href=\"https://colab.research.google.com/github/Divyanshi19/Devops/blob/master/spacy1.ipynb\" target=\"_parent\"><img src=\"https://colab.research.google.com/assets/colab-badge.svg\" alt=\"Open In Colab\"/></a>"
      ]
    },
    {
      "cell_type": "code",
      "metadata": {
        "id": "upKEzlwqH1Pt",
        "colab_type": "code",
        "colab": {
          "base_uri": "https://localhost:8080/",
          "height": 34
        },
        "outputId": "5d187fa6-5c70-47bd-d88d-d648865bc415"
      },
      "source": [
        "#Import the English language class\n",
        "from spacy.lang.en import English\n",
        "\n",
        "#Create the nlp object\n",
        "nlp = English()\n",
        "\n",
        "#Process a text\n",
        "doc = nlp(\"This is the first example\")\n",
        "\n",
        "#Print the document text\n",
        "print(doc.text)"
      ],
      "execution_count": 2,
      "outputs": [
        {
          "output_type": "stream",
          "text": [
            "This is the first example\n"
          ],
          "name": "stdout"
        }
      ]
    },
    {
      "cell_type": "code",
      "metadata": {
        "id": "b5pFh0eMJK2a",
        "colab_type": "code",
        "colab": {
          "base_uri": "https://localhost:8080/",
          "height": 34
        },
        "outputId": "20518025-8d3f-4bff-ebd3-57ccc843ad75"
      },
      "source": [
        "#Import the English language class and Create the nlp object\n",
        "from spacy.lang.en import English\n",
        "nlp = English()\n",
        "\n",
        "#Process a text\n",
        "doc = nlp(\"I like ice creams and juices\")\n",
        "\n",
        "#Select the first token\n",
        "first_token = doc[0]\n",
        "\n",
        "#Print the first token's text\n",
        "print(first_token.text)"
      ],
      "execution_count": 3,
      "outputs": [
        {
          "output_type": "stream",
          "text": [
            "I\n"
          ],
          "name": "stdout"
        }
      ]
    },
    {
      "cell_type": "code",
      "metadata": {
        "id": "x_9FyxiFKc4o",
        "colab_type": "code",
        "colab": {
          "base_uri": "https://localhost:8080/",
          "height": 34
        },
        "outputId": "f0584cb1-5a1f-4e67-fe63-79f1b53a8e6c"
      },
      "source": [
        "#Import the English language class and Create the nlp object\n",
        "from spacy.lang.en import English\n",
        "nlp = English()\n",
        "\n",
        "#Process a text\n",
        "doc = nlp(\"I like ice creams and juices\")\n",
        "\n",
        "# A slice of the DOc for ice creams\n",
        "ice_creams = doc[2:4]\n",
        "print(ice_creams.text)"
      ],
      "execution_count": 4,
      "outputs": [
        {
          "output_type": "stream",
          "text": [
            "ice creams\n"
          ],
          "name": "stdout"
        }
      ]
    },
    {
      "cell_type": "code",
      "metadata": {
        "id": "nC_afWKTLOda",
        "colab_type": "code",
        "colab": {
          "base_uri": "https://localhost:8080/",
          "height": 34
        },
        "outputId": "18eb1d82-451f-4020-bc22-e59323e622aa"
      },
      "source": [
        "# A slice of the DOc for \"ice creams and juices\"\n",
        "ice_creams_and_juices = doc[2:6]\n",
        "print(ice_creams_and_juices.text)"
      ],
      "execution_count": 5,
      "outputs": [
        {
          "output_type": "stream",
          "text": [
            "ice creams and juices\n"
          ],
          "name": "stdout"
        }
      ]
    },
    {
      "cell_type": "code",
      "metadata": {
        "id": "Hxj4MHzKLwCd",
        "colab_type": "code",
        "colab": {
          "base_uri": "https://localhost:8080/",
          "height": 51
        },
        "outputId": "33b446a3-fc10-42b3-cfd0-75419f8f6c3a"
      },
      "source": [
        "from spacy.lang.en import English\n",
        "nlp = English()\n",
        "\n",
        "#Process the text\n",
        "doc = nlp(\"In 2000, more than 60 % of people in East Asia were in poverty. Now less than 4 % are\")\n",
        "\n",
        "#Iterate over the tokens in a DOc\n",
        "for token in doc:\n",
        "  #Check if the token resembles a number\n",
        "  if token.like_num:\n",
        "    #Get the next token in the document\n",
        "    next_token = doc[token.i+1]\n",
        "    #Check if the next token's text equals to \"%\"\n",
        "    if next_token.text == \"%\":\n",
        "      print(\"Percentage found\", token.text)"
      ],
      "execution_count": 6,
      "outputs": [
        {
          "output_type": "stream",
          "text": [
            "Percentage found 60\n",
            "Percentage found 4\n"
          ],
          "name": "stdout"
        }
      ]
    },
    {
      "cell_type": "code",
      "metadata": {
        "id": "oNllDtNcOBAX",
        "colab_type": "code",
        "colab": {}
      },
      "source": [
        ""
      ],
      "execution_count": null,
      "outputs": []
    }
  ]
}